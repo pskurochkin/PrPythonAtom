{
 "cells": [
  {
   "cell_type": "code",
   "execution_count": 40,
   "metadata": {},
   "outputs": [],
   "source": [
    "class HashMap:\n",
    "    \n",
    "    class Entry:\n",
    "        def __init__(self, key, value):\n",
    "            self._key = key\n",
    "            self._value = value\n",
    "            #TODO store key and value as attributes\n",
    "            \n",
    "        def get_key(self):\n",
    "            return self._key\n",
    "            #TODO return key\n",
    "            \n",
    "        def get_value(self):\n",
    "            return self._value\n",
    "            #TODO return value\n",
    "            \n",
    "        def __eq__(self, other):\n",
    "            return self._key == other._key\n",
    "            #TODO реализовать функцию сравнения\n",
    "            #Пояснения: self - текущий объект entry, other - какой-то другой объект\n",
    "            #Какое условие на равенство объектов в ассоциативном массиве?\n",
    "            #Если объекты равны, то метод должен возвращать True, иначе False\n",
    "            \n",
    "        def __str__(self):\n",
    "            return \"({}, {})\".format(self.get_key(), self.get_value())\n",
    "    \n",
    "    def __init__(self, bucket_num = 64):\n",
    "        self.buckets = [[] for _ in range(bucket_num)]\n",
    "        self.entryCounter = 0\n",
    "        #TODO Создать массив для бакетов\n",
    "        \n",
    "    def get(self, key, default_value=None):\n",
    "        tempEntry = self.Entry(key, default_value)\n",
    "        for entry in self.buckets[self._get_index(hash(key))]:\n",
    "            if entry == tempEntry:\n",
    "                return entry.get_value()\n",
    "        else:\n",
    "            return default_value\n",
    "        #TODO метод get, возвращающий значение, если оно присутствует, иначе default_value\n",
    "\n",
    "    def put(self, key, value):\n",
    "        tempEntry = self.Entry(key, value)\n",
    "        for entry in self.buckets[self._get_index(hash(key))]:\n",
    "            if entry == tempEntry:\n",
    "                entry._value = value\n",
    "        else:\n",
    "            self.buckets[self._get_index(hash(key))].append(tempEntry)\n",
    "            self.entryCounter += 1\n",
    "        #TODO метод put, кладет значение по ключу, в случае, если ключ уже присутствует он его заменяет\n",
    "\n",
    "    def __len__(self):\n",
    "        return self.entryCounter\n",
    "        #TODO Возвращает количество Entry в массиве\n",
    "\n",
    "    def _get_hash(self, key):\n",
    "        return hash(key)\n",
    "        #TODO Вернуть хеш от ключа, по которому он кладется в бакет\n",
    "\n",
    "    def _get_index(self, hash_value):\n",
    "        return hash_value % len(self.buckets)\n",
    "        #TODO По значению хеша вернуть индекс элемента в массиве\n",
    "    \n",
    "    class ValuesIterator:\n",
    "        def __init__(self):\n",
    "            self.values = []\n",
    "            \n",
    "        def get(self, index):\n",
    "            return self.values[index]\n",
    "        \n",
    "        def put(self, value):\n",
    "            self.values.append(value)\n",
    "            \n",
    "        def __iter__(self):\n",
    "            self.index = 0\n",
    "            return self\n",
    "        \n",
    "        def __next__(self):\n",
    "            if self.index < len(self.values):\n",
    "                self.index += 1\n",
    "                return self.get(self.index - 1)\n",
    "            else:\n",
    "                raise StopIteration\n",
    "\n",
    "    def values(self):\n",
    "        self.valuesIterator = self.ValuesIterator()\n",
    "        for bucket in self.buckets:\n",
    "            for entry in bucket:\n",
    "                self.valuesIterator.put(entry.get_value())\n",
    "        return self.valuesIterator\n",
    "        #TODO Задание со звездочкой!\n",
    "        #Должен возвращать генератор или итератор значений (на самом деле итератор, но не принципиально, через генераторы проще ИМХО)\n",
    " \n",
    "    class KeysIterator:\n",
    "        def __init__(self):\n",
    "            self.keys = []\n",
    "\n",
    "        def get(self, index):\n",
    "            return self.keys[index]\n",
    "\n",
    "        def put(self, key):\n",
    "            self.keys.append(key)\n",
    "\n",
    "        def __iter__(self):\n",
    "            self.index = 0\n",
    "            return self\n",
    "\n",
    "        def __next__(self):\n",
    "            if self.index < len(self.keys):\n",
    "                self.index += 1\n",
    "                return self.get(self.index - 1)\n",
    "            else:\n",
    "                raise StopIteration\n",
    "\n",
    "    def keys(self):\n",
    "        self.keysIterator = self.KeysIterator()\n",
    "        for bucket in self.buckets:\n",
    "            for entry in bucket:\n",
    "                self.keysIterator.put(entry.get_key())\n",
    "        return self.keysIterator\n",
    "        #TODO Задание со звездочкой!\n",
    "        #Должен возвращать генератор или итератор ключей (на самом деле итератор, но не принципиально, через генераторы проще ИМХО)\n",
    "    \n",
    "    class ItemsIterator:\n",
    "        def __init__(self):\n",
    "            self.items = []\n",
    "\n",
    "        def get(self, index):\n",
    "            return self.items[index]\n",
    "\n",
    "        def put(self, item):\n",
    "            self.items.append(item)\n",
    "\n",
    "        def __iter__(self):\n",
    "            self.index = 0\n",
    "            return self\n",
    "\n",
    "        def __next__(self):\n",
    "            if self.index < len(self.items):\n",
    "                self.index += 1\n",
    "                return self.get(self.index - 1)\n",
    "            else:\n",
    "                raise StopIteration\n",
    "    \n",
    "    def items(self):\n",
    "        self.itemsIterator = self.ItemsIterator()\n",
    "        for bucket in self.buckets:\n",
    "            for entry in bucket:\n",
    "                self.itemsIterator.put(entry)\n",
    "        return self.itemsIterator\n",
    "        #TODO Задание со звездочкой!\n",
    "        #Должен возвращать генератор или итератор пар ключ и значение (tuples)\n",
    "        #(на самом деле итератор, но не принципиально, через генераторы проще ИМХО)\n",
    "        \n",
    "    def __str__(self):\n",
    "        outstr = \"\"\n",
    "        outstr += \"[\"\n",
    "        for bucket in self.buckets:\n",
    "            outstr += \"[\"\n",
    "            for entry in bucket:\n",
    "                outstr += \"({}, {})\".format(entry.get_key(), entry.get_value())\n",
    "            outstr += \"]\"\n",
    "        outstr += \"]\"\n",
    "        return outstr\n",
    "        #TODO Метод, вызываемый при вызове print, пофантазируйте, что можно написать"
   ]
  },
  {
   "cell_type": "code",
   "execution_count": 45,
   "metadata": {},
   "outputs": [],
   "source": [
    "class HashSet(HashMap):\n",
    "   \n",
    "    def get(self, key, default_value=None):\n",
    "        tempEntry = self.Entry(key, default_value)\n",
    "        for entry in self.buckets[self._get_index(hash(key))]:\n",
    "            if entry == tempEntry:\n",
    "                return entry.get_key()\n",
    "        else:\n",
    "            return default_value\n",
    "        #TODO достаточно переопределить данный метод\n",
    "\n",
    "    def put(self, key, value):\n",
    "        tempEntry = self.Entry(key, None)\n",
    "        for entry in self.buckets[self._get_index(hash(key))]:\n",
    "            if entry == tempEntry:\n",
    "                return\n",
    "        else:\n",
    "            self.buckets[self._get_index(hash(key))].append(tempEntry)\n",
    "            self.entryCounter += 1\n",
    "        #TODO метод put, нужно переопределить данный метод\n",
    "\n",
    "    def __len__(self):\n",
    "        return self.entryCounter\n",
    "        #TODO Возвращает количество Entry в массиве\n",
    "\n",
    "    def values(self):\n",
    "        self.keysIterator = self.KeysIterator()\n",
    "        for bucket in self.buckets:\n",
    "            for entry in bucket:\n",
    "                self.keysIterator.put(entry.get_key())\n",
    "        return self.keysIterator\n",
    "        #TODO Задание со звездочкой!\n",
    "        #Если делали, то нужно бы переопределить\n",
    "        #Должен возвращать генератор или итератор значений (на самом деле итератор, но не принципиально, через генераторы проще ИМХО)"
   ]
  },
  {
   "cell_type": "code",
   "execution_count": 17,
   "metadata": {},
   "outputs": [],
   "source": [
    "import random\n",
    "\n",
    "def test_hashmap_04():\n",
    "    entries = [(5, 7), (\"entries\", 56), (\"value\", 54.), (1000, \"t\"), (HashMap(10), ()), ({\"s\":\"v\"}, {\"v\":\"s\"})]\n",
    "    for k, v in entries:\n",
    "        entry = HashMap.Entry(k, v)\n",
    "        assert entry.get_key() == k\n",
    "        assert entry.get_value() == v\n",
    "    print(\"Test 4 part 01 passed\")\n",
    "        \n",
    "    for i in range(len(entries)):\n",
    "        entry_one = HashMap.Entry(entries[i][0], entries[i][1])\n",
    "        for _ in range(10):\n",
    "            j = random.randint(0, len(entries)-1)\n",
    "            p = random.randint(0, len(entries)-1)\n",
    "            entry_two = HashMap.Entry(entries[j][0], entries[p][1])\n",
    "            if j == i:\n",
    "                assert entry_one == entry_two\n",
    "            else:\n",
    "                assert entry_one != entry_two\n",
    "    print(\"Test 4 part 02 passed\")\n",
    "    \n",
    "def test_hashmap_05():\n",
    "    hashmap = HashMap(10)\n",
    "    assert sum(isinstance(v, list) for k, v in hashmap.__dict__.items()) == 1\n",
    "    print(\"Test 5 part 01 passed\")\n",
    "    \n",
    "    inner_list_name = [k for k, v in hashmap.__dict__.items() if isinstance(v, list)][0]\n",
    "    for i in range(10):\n",
    "        assert len(HashMap(i).__dict__[inner_list_name]) == i\n",
    "    print(\"Test 5 part 02 passed\")\n",
    "    \n",
    "def test_hashmap_06():\n",
    "    hashmap = HashMap(10)\n",
    "    entries = [(5, 7), (\"entries\", 56), (\"value\", 54.), (1000, \"t\"), (HashMap(10), ())]\n",
    "    for k, v in entries:\n",
    "        hashmap.put(k, v)\n",
    "    for k, v in entries:\n",
    "        assert hashmap.get(k) == v\n",
    "    print(\"Test 6 part 01 passed\")\n",
    "    \n",
    "    for _ in range(100):\n",
    "        i = random.randint(0, len(entries)-1)\n",
    "        j = random.randint(0, len(entries)-1)\n",
    "        hashmap.put(i, j)\n",
    "        assert hashmap.get(i) == j\n",
    "        \n",
    "    assert hashmap.get(\"nexit\", \"default\") ==\"default\"\n",
    "    \n",
    "    print(\"Test 6 part 02 passed\")"
   ]
  },
  {
   "cell_type": "code",
   "execution_count": 42,
   "metadata": {},
   "outputs": [
    {
     "name": "stdout",
     "output_type": "stream",
     "text": [
      "Test 4 part 01 passed\n",
      "Test 4 part 02 passed\n"
     ]
    }
   ],
   "source": [
    "test_hashmap_04()"
   ]
  },
  {
   "cell_type": "code",
   "execution_count": 43,
   "metadata": {
    "scrolled": true
   },
   "outputs": [
    {
     "name": "stdout",
     "output_type": "stream",
     "text": [
      "Test 5 part 01 passed\n",
      "Test 5 part 02 passed\n"
     ]
    }
   ],
   "source": [
    "test_hashmap_05()"
   ]
  },
  {
   "cell_type": "code",
   "execution_count": 44,
   "metadata": {
    "scrolled": true
   },
   "outputs": [
    {
     "name": "stdout",
     "output_type": "stream",
     "text": [
      "Test 6 part 01 passed\n",
      "Test 6 part 02 passed\n"
     ]
    }
   ],
   "source": [
    "test_hashmap_06()"
   ]
  },
  {
   "cell_type": "code",
   "execution_count": 27,
   "metadata": {
    "scrolled": true
   },
   "outputs": [
    {
     "name": "stdout",
     "output_type": "stream",
     "text": [
      "t\n",
      "7\n",
      "56\n",
      "()\n",
      "54.0\n"
     ]
    }
   ],
   "source": [
    "hashmap = HashMap(10)\n",
    "entries = [(5, 7), (\"entries\", 56), (\"value\", 54.), (1000, \"t\"), (HashMap(10), ())]\n",
    "for k, v in entries:\n",
    "    hashmap.put(k, v)\n",
    "\n",
    "for values in hashmap.values():\n",
    "    print(values)"
   ]
  },
  {
   "cell_type": "code",
   "execution_count": 28,
   "metadata": {},
   "outputs": [
    {
     "name": "stdout",
     "output_type": "stream",
     "text": [
      "1000\n",
      "[[][][][][][][][][][]]\n",
      "5\n",
      "entries\n",
      "value\n"
     ]
    }
   ],
   "source": [
    "hashmap = HashMap(10)\n",
    "entries = [(5, 7), (\"entries\", 56), (\"value\", 54.), (1000, \"t\"), (HashMap(10), ())]\n",
    "for k, v in entries:\n",
    "    hashmap.put(k, v)\n",
    "    \n",
    "for keys in hashmap.keys():\n",
    "    print(keys)"
   ]
  },
  {
   "cell_type": "code",
   "execution_count": 32,
   "metadata": {},
   "outputs": [
    {
     "name": "stdout",
     "output_type": "stream",
     "text": [
      "(1000, t)\n",
      "(5, 7)\n",
      "(entries, 56)\n",
      "([[][][][][][][][][][]], ())\n",
      "(value, 54.0)\n"
     ]
    }
   ],
   "source": [
    "hashmap = HashMap(10)\n",
    "entries = [(5, 7), (\"entries\", 56), (\"value\", 54.), (1000, \"t\"), (HashMap(10), ())]\n",
    "for k, v in entries:\n",
    "    hashmap.put(k, v)\n",
    "    \n",
    "for item in hashmap.items():\n",
    "    print(item)"
   ]
  },
  {
   "cell_type": "code",
   "execution_count": null,
   "metadata": {},
   "outputs": [],
   "source": []
  }
 ],
 "metadata": {
  "kernelspec": {
   "display_name": "Python 3",
   "language": "python",
   "name": "python3"
  },
  "language_info": {
   "codemirror_mode": {
    "name": "ipython",
    "version": 3
   },
   "file_extension": ".py",
   "mimetype": "text/x-python",
   "name": "python",
   "nbconvert_exporter": "python",
   "pygments_lexer": "ipython3",
   "version": "3.6.5"
  }
 },
 "nbformat": 4,
 "nbformat_minor": 2
}
